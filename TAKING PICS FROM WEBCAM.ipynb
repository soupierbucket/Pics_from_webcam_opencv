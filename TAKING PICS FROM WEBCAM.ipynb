{
 "cells": [
  {
   "cell_type": "code",
   "execution_count": null,
   "metadata": {},
   "outputs": [],
   "source": [
    "import cv2\n",
    "import os\n",
    "cam = cv2.VideoCapture(0)\n",
    "cv2.namedWindow(\"Image_capture_code\")\n",
    "\n",
    "img_counter = 0\n",
    "\n",
    "while True:\n",
    "    ret, frame = cam.read()\n",
    "    cv2.imshow(\"Image_capture_code\", frame)\n",
    "    if not ret:\n",
    "        break\n",
    "    k = cv2.waitKey(1)\n",
    "    if k%256 == 27:\n",
    "        # ESC pressed\n",
    "        print(\"Escape pressed, exiting...\")\n",
    "        break\n",
    "\n",
    "    elif k%256 == 32:\n",
    "        # SPACE pressed\n",
    "        print('Please press SPACE BAR to capture an image!')\n",
    "        os.mkdir('C:\\\\Users\\\\Desktop\\\\Img_storing')               #Change the path\n",
    "        path='C:\\\\Users\\\\Desktop\\\\Img_storing'                    #Change the path\n",
    "        img_name = \"opencv_frame_img_{}.png\".format(img_counter)\n",
    "        #cv2.imwrite(img_name, frame)\n",
    "        cv2.imwrite(os.path.join(path , 'waka.jpg'), frame)\n",
    "        print(\"{} written!\".format(img_name))\n",
    "        \n",
    "        img_counter += 1\n",
    "cam.release()\n",
    "cv2.destroyAllWindows()"
   ]
  }
 ],
 "metadata": {
  "kernelspec": {
   "display_name": "Python 3",
   "language": "python",
   "name": "python3"
  },
  "language_info": {
   "codemirror_mode": {
    "name": "ipython",
    "version": 3
   },
   "file_extension": ".py",
   "mimetype": "text/x-python",
   "name": "python",
   "nbconvert_exporter": "python",
   "pygments_lexer": "ipython3",
   "version": "3.6.0"
  }
 },
 "nbformat": 4,
 "nbformat_minor": 2
}
